{
 "cells": [
  {
   "cell_type": "code",
   "execution_count": 1,
   "id": "e1dc66a0",
   "metadata": {},
   "outputs": [],
   "source": [
    "import cv2 as cv\n",
    "import numpy as np\n",
    "import matplotlib.pyplot as plt"
   ]
  },
  {
   "cell_type": "markdown",
   "id": "8d1dd55d",
   "metadata": {},
   "source": [
    "## Creating Pattern with Gray Color Space"
   ]
  },
  {
   "cell_type": "code",
   "execution_count": 12,
   "id": "2a6d27a0",
   "metadata": {},
   "outputs": [
    {
     "data": {
      "text/plain": [
       "<matplotlib.image.AxesImage at 0x23b1f8924f0>"
      ]
     },
     "execution_count": 12,
     "metadata": {},
     "output_type": "execute_result"
    },
    {
     "data": {
      "image/png": "[encoded data removed]",
      "text/plain": [
       "<Figure size 432x288 with 1 Axes>"
      ]
     },
     "metadata": {
      "needs_background": "light"
     },
     "output_type": "display_data"
    }
   ],
   "source": [
    "arr = np.array([[ 0 ,255, 0 ],\n",
    "                [255, 0 ,255],\n",
    "                [ 0 ,255, 0 ]])\n",
    "plt.imshow(arr)"
   ]
  },
  {
   "cell_type": "markdown",
   "id": "109311f6",
   "metadata": {},
   "source": [
    "## Creating Black image in RGB Color Space"
   ]
  },
  {
   "cell_type": "code",
   "execution_count": 9,
   "id": "6fabe174",
   "metadata": {},
   "outputs": [
    {
     "data": {
      "text/plain": [
       "<matplotlib.image.AxesImage at 0x23b1f7d37f0>"
      ]
     },
     "execution_count": 9,
     "metadata": {},
     "output_type": "execute_result"
    },
    {
     "data": {
      "image/png": "[encoded data removed]",
      "text/plain": [
       "<Figure size 432x288 with 1 Axes>"
      ]
     },
     "metadata": {
      "needs_background": "light"
     },
     "output_type": "display_data"
    }
   ],
   "source": [
    "arr = np.array([[[ 0 , 0 , 0 ] , [ 0 , 0 , 0 ] , [ 0 , 0 , 0 ]],\n",
    "                [[ 0 , 0 , 0 ] , [ 0 , 0 , 0 ] , [ 0 , 0 , 0 ]],\n",
    "                [[ 0 , 0 , 0 ] , [ 0 , 0 , 0 ] , [ 0 , 0 , 0 ]]])\n",
    "plt.imshow(arr)"
   ]
  },
  {
   "cell_type": "markdown",
   "id": "542d32c7",
   "metadata": {},
   "source": [
    "## Creating Pattern in black and white with RGB Color Space"
   ]
  },
  {
   "cell_type": "code",
   "execution_count": 11,
   "id": "8d2f5f43",
   "metadata": {},
   "outputs": [
    {
     "data": {
      "text/plain": [
       "True"
      ]
     },
     "execution_count": 11,
     "metadata": {},
     "output_type": "execute_result"
    },
    {
     "data": {
      "image/png": "[encoded data removed]",
      "text/plain": [
       "<Figure size 432x288 with 1 Axes>"
      ]
     },
     "metadata": {
      "needs_background": "light"
     },
     "output_type": "display_data"
    }
   ],
   "source": [
    "arr = np.array([[[ 0 , 0 , 0 ] , [255,255,255] , [ 0 , 0 , 0 ]],\n",
    "                [[255,255,255] , [ 150 , 150 , 150 ] , [255,255,255]],\n",
    "                [[ 0 , 0 , 0 ] , [255,255,255] , [ 0 , 0 , 0 ]]])\n",
    "plt.imshow(arr)\n",
    "cv.imwrite('pattern_RGB.png', arr)"
   ]
  },
  {
   "cell_type": "code",
   "execution_count": null,
   "id": "bbb42614",
   "metadata": {},
   "outputs": [],
   "source": []
  }
 ],
 "metadata": {
  "kernelspec": {
   "display_name": "Python 3 (ipykernel)",
   "language": "python",
   "name": "python3"
  },
  "language_info": {
   "codemirror_mode": {
    "name": "ipython",
    "version": 3
   },
   "file_extension": ".py",
   "mimetype": "text/x-python",
   "name": "python",
   "nbconvert_exporter": "python",
   "pygments_lexer": "ipython3",
   "version": "3.9.7"
  }
 },
 "nbformat": 4,
 "nbformat_minor": 5
}
