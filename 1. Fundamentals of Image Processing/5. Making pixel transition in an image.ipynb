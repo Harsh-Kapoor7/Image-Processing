{
 "cells": [
  {
   "cell_type": "code",
   "execution_count": 1,
   "id": "a84c3f89",
   "metadata": {},
   "outputs": [],
   "source": [
    "import cv2 as cv\n",
    "import numpy as np\n",
    "import matplotlib.pyplot as plt"
   ]
  },
  {
   "cell_type": "markdown",
   "id": "e3b86bc3",
   "metadata": {},
   "source": [
    "## Creating Shades of Red "
   ]
  },
  {
   "cell_type": "code",
   "execution_count": 2,
   "id": "a557e3a1",
   "metadata": {},
   "outputs": [
    {
     "name": "stderr",
     "output_type": "stream",
     "text": [
      "Clipping input data to the valid range for imshow with RGB data ([0..1] for floats or [0..255] for integers).\n"
     ]
    },
    {
     "data": {
      "text/plain": [
       "<matplotlib.image.AxesImage at 0x208ffa9daf0>"
      ]
     },
     "execution_count": 2,
     "metadata": {},
     "output_type": "execute_result"
    },
    {
     "data": {
      "image/png": "[encoded data removed]",
      "text/plain": [
       "<Figure size 432x288 with 1 Axes>"
      ]
     },
     "metadata": {
      "needs_background": "light"
     },
     "output_type": "display_data"
    }
   ],
   "source": [
    "arr = np.array([[[  30 , 0 , 0 ],[  60 , 0 , 0 ],[  90 , 0 , 0 ]],\n",
    "                [[ 120 , 0 , 0 ],[ 150 , 0 , 0 ],[ 180 , 0 , 0 ]],\n",
    "                [[ 210 , 0 , 0 ],[ 240 , 0 , 0 ],[ 270 , 0 , 0 ]]])\n",
    "plt.imshow(arr)"
   ]
  },
  {
   "cell_type": "markdown",
   "id": "9a3ebe53",
   "metadata": {},
   "source": [
    "## Creating shades of green"
   ]
  },
  {
   "cell_type": "code",
   "execution_count": 3,
   "id": "d1a718e3",
   "metadata": {},
   "outputs": [
    {
     "name": "stderr",
     "output_type": "stream",
     "text": [
      "Clipping input data to the valid range for imshow with RGB data ([0..1] for floats or [0..255] for integers).\n"
     ]
    },
    {
     "data": {
      "text/plain": [
       "<matplotlib.image.AxesImage at 0x208ffba9640>"
      ]
     },
     "execution_count": 3,
     "metadata": {},
     "output_type": "execute_result"
    },
    {
     "data": {
      "image/png": "[encoded data removed]",
      "text/plain": [
       "<Figure size 432x288 with 1 Axes>"
      ]
     },
     "metadata": {
      "needs_background": "light"
     },
     "output_type": "display_data"
    }
   ],
   "source": [
    "arr = np.array([[[  0 , 30 , 0 ],[  0 , 60 , 0 ],[  0 , 90 , 0 ]],\n",
    "                [[ 0 , 120 , 0 ],[ 0 , 150 , 0 ],[ 0 , 180 , 0 ]],\n",
    "                [[ 0 , 210 , 0 ],[ 0 , 240 , 0 ],[ 0 , 270 , 0 ]]])\n",
    "plt.imshow(arr)"
   ]
  },
  {
   "cell_type": "markdown",
   "id": "f431a0db",
   "metadata": {},
   "source": [
    "## Creating shades of Blue"
   ]
  },
  {
   "cell_type": "code",
   "execution_count": 4,
   "id": "d747c64d",
   "metadata": {},
   "outputs": [
    {
     "name": "stderr",
     "output_type": "stream",
     "text": [
      "Clipping input data to the valid range for imshow with RGB data ([0..1] for floats or [0..255] for integers).\n"
     ]
    },
    {
     "data": {
      "text/plain": [
       "<matplotlib.image.AxesImage at 0x208ffc13580>"
      ]
     },
     "execution_count": 4,
     "metadata": {},
     "output_type": "execute_result"
    },
    {
     "data": {
      "image/png": "[encoded data removed]",
      "text/plain": [
       "<Figure size 432x288 with 1 Axes>"
      ]
     },
     "metadata": {
      "needs_background": "light"
     },
     "output_type": "display_data"
    }
   ],
   "source": [
    "arr = np.array([[[ 0 , 0 ,  30 ],[ 0 , 0 ,  60 ],[ 0 , 0 ,  90 ]],\n",
    "                [[ 0 , 0 , 120 ],[ 0 , 0 , 150 ],[ 0 , 0 , 180 ]],\n",
    "                [[ 0 , 0 , 210 ],[ 0 , 0 , 240 ],[ 0 , 0 , 270 ]]])\n",
    "plt.imshow(arr)"
   ]
  },
  {
   "cell_type": "markdown",
   "id": "cd8bb019",
   "metadata": {},
   "source": [
    "## Merging all the images given above"
   ]
  },
  {
   "cell_type": "code",
   "execution_count": 5,
   "id": "2d1b0886",
   "metadata": {},
   "outputs": [
    {
     "data": {
      "text/plain": [
       "<matplotlib.image.AxesImage at 0x208ffc752e0>"
      ]
     },
     "execution_count": 5,
     "metadata": {},
     "output_type": "execute_result"
    },
    {
     "data": {
      "image/png": "[encoded data removed]",
      "text/plain": [
       "<Figure size 432x288 with 1 Axes>"
      ]
     },
     "metadata": {
      "needs_background": "light"
     },
     "output_type": "display_data"
    }
   ],
   "source": [
    "arr = np.array([[[ 70 ,  0 ,  0 ],[ 150 ,   0 ,   0 ],[255 ,   0 ,   0 ]],\n",
    "                [[  0 , 70 ,  0 ],[   0 , 150 ,   0 ],[  0 , 255 ,   0 ]],\n",
    "                [[  0 ,  0 , 70 ],[   0 ,   0 , 150 ],[  0 ,   0 , 255 ]]])\n",
    "plt.imshow(arr)"
   ]
  },
  {
   "cell_type": "markdown",
   "id": "c4c73f40",
   "metadata": {},
   "source": [
    "## <font color = 'red'>Creating shades of Red - Dense</font>"
   ]
  },
  {
   "cell_type": "code",
   "execution_count": 7,
   "id": "847812d1",
   "metadata": {},
   "outputs": [
    {
     "data": {
      "text/plain": [
       "<matplotlib.image.AxesImage at 0x2088377b880>"
      ]
     },
     "execution_count": 7,
     "metadata": {},
     "output_type": "execute_result"
    },
    {
     "data": {
      "image/png": "[encoded data removed]",
      "text/plain": [
       "<Figure size 432x288 with 1 Axes>"
      ]
     },
     "metadata": {
      "needs_background": "light"
     },
     "output_type": "display_data"
    }
   ],
   "source": [
    "red = []\n",
    "for i in range(255):\n",
    "    tmp = []\n",
    "    for j in range(255):\n",
    "        tmp.append([i,0,0])\n",
    "    red.append(tmp)\n",
    "plt.imshow(red)"
   ]
  },
  {
   "cell_type": "markdown",
   "id": "fe25e13b",
   "metadata": {},
   "source": [
    "## <font color = 'green'>Creating shades of Green - Dense</font>"
   ]
  },
  {
   "cell_type": "code",
   "execution_count": 9,
   "id": "0f01ae44",
   "metadata": {},
   "outputs": [
    {
     "data": {
      "text/plain": [
       "<matplotlib.image.AxesImage at 0x20884b9b940>"
      ]
     },
     "execution_count": 9,
     "metadata": {},
     "output_type": "execute_result"
    },
    {
     "data": {
      "image/png": "[encoded data removed]",
      "text/plain": [
       "<Figure size 432x288 with 1 Axes>"
      ]
     },
     "metadata": {
      "needs_background": "light"
     },
     "output_type": "display_data"
    }
   ],
   "source": [
    "green = []\n",
    "for i in range(255):\n",
    "    tmp = []\n",
    "    for j in range(255):\n",
    "        tmp.append([0,i,0])\n",
    "    green.append(tmp)\n",
    "plt.imshow(green)"
   ]
  },
  {
   "cell_type": "markdown",
   "id": "d408fbc3",
   "metadata": {},
   "source": [
    "## <font color = 'blue'>Creating shades of Green - Dense</font>"
   ]
  },
  {
   "cell_type": "code",
   "execution_count": 10,
   "id": "e75c3f5a",
   "metadata": {},
   "outputs": [
    {
     "data": {
      "text/plain": [
       "<matplotlib.image.AxesImage at 0x208844bab50>"
      ]
     },
     "execution_count": 10,
     "metadata": {},
     "output_type": "execute_result"
    },
    {
     "data": {
      "image/png": "[encoded data removed]",
      "text/plain": [
       "<Figure size 432x288 with 1 Axes>"
      ]
     },
     "metadata": {
      "needs_background": "light"
     },
     "output_type": "display_data"
    }
   ],
   "source": [
    "blue = []\n",
    "for i in range(255):\n",
    "    tmp = []\n",
    "    for j in range(255):\n",
    "        tmp.append([0,0,i])\n",
    "    blue.append(tmp)\n",
    "plt.imshow(blue)"
   ]
  },
  {
   "cell_type": "markdown",
   "id": "ce966cb7",
   "metadata": {},
   "source": [
    "## Merging these 3 shades"
   ]
  },
  {
   "cell_type": "code",
   "execution_count": 19,
   "id": "6ab52fd3",
   "metadata": {},
   "outputs": [
    {
     "name": "stderr",
     "output_type": "stream",
     "text": [
      "Clipping input data to the valid range for imshow with RGB data ([0..1] for floats or [0..255] for integers).\n"
     ]
    },
    {
     "data": {
      "text/plain": [
       "<matplotlib.image.AxesImage at 0x208887c1fa0>"
      ]
     },
     "execution_count": 19,
     "metadata": {},
     "output_type": "execute_result"
    },
    {
     "data": {
      "image/png": "[encoded data removed]",
      "text/plain": [
       "<Figure size 432x288 with 1 Axes>"
      ]
     },
     "metadata": {
      "needs_background": "light"
     },
     "output_type": "display_data"
    }
   ],
   "source": [
    "img = []\n",
    "\n",
    "#Red\n",
    "for i in range(256):\n",
    "    tmp = []\n",
    "    for j in range(1536):\n",
    "        tmp.append([i,0,0])\n",
    "    img.append(tmp)\n",
    "    \n",
    "for i in range(256,0,-1):\n",
    "    tmp = []\n",
    "    for j in range(1536):\n",
    "        tmp.append([i,0,0])\n",
    "    img.append(tmp)\n",
    "\n",
    "#Green\n",
    "for i in range(256):\n",
    "    tmp = []\n",
    "    for j in range(1536):\n",
    "        tmp.append([0,i,0])\n",
    "    img.append(tmp)\n",
    "\n",
    "for i in range(256,0,-1):\n",
    "    tmp = []\n",
    "    for j in range(1536):\n",
    "        tmp.append([0,i,0])\n",
    "    img.append(tmp)\n",
    "    \n",
    "#Blue\n",
    "for i in range(256):\n",
    "    tmp = []\n",
    "    for j in range(1536):\n",
    "        tmp.append([0,0,i])\n",
    "    img.append(tmp)\n",
    "    \n",
    "for i in range(256,0,-1):\n",
    "    tmp = []\n",
    "    for j in range(1536):\n",
    "        tmp.append([0,0,i])\n",
    "    img.append(tmp)\n",
    "    \n",
    "img = np.array(img)\n",
    "plt.imshow(img)"
   ]
  },
  {
   "cell_type": "code",
   "execution_count": 20,
   "id": "cd478f83",
   "metadata": {},
   "outputs": [
    {
     "data": {
      "text/plain": [
       "True"
      ]
     },
     "execution_count": 20,
     "metadata": {},
     "output_type": "execute_result"
    }
   ],
   "source": [
    "cv.imwrite('Transition.png', img)"
   ]
  },
  {
   "cell_type": "code",
   "execution_count": null,
   "id": "61ca0f09",
   "metadata": {},
   "outputs": [],
   "source": []
  }
 ],
 "metadata": {
  "kernelspec": {
   "display_name": "Python 3 (ipykernel)",
   "language": "python",
   "name": "python3"
  },
  "language_info": {
   "codemirror_mode": {
    "name": "ipython",
    "version": 3
   },
   "file_extension": ".py",
   "mimetype": "text/x-python",
   "name": "python",
   "nbconvert_exporter": "python",
   "pygments_lexer": "ipython3",
   "version": "3.9.7"
  }
 },
 "nbformat": 4,
 "nbformat_minor": 5
}
