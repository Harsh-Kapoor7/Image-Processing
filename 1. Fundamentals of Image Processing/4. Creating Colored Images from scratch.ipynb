{
 "cells": [
  {
   "cell_type": "code",
   "execution_count": 1,
   "id": "83279cba",
   "metadata": {},
   "outputs": [],
   "source": [
    "import cv2 as cv\n",
    "import numpy as np\n",
    "import matplotlib.pyplot as plt"
   ]
  },
  {
   "cell_type": "markdown",
   "id": "4bfcd22c",
   "metadata": {},
   "source": [
    "## Creating Red image"
   ]
  },
  {
   "cell_type": "code",
   "execution_count": 3,
   "id": "dd4d8742",
   "metadata": {},
   "outputs": [
    {
     "data": {
      "text/plain": [
       "<matplotlib.image.AxesImage at 0x248bfdf61c0>"
      ]
     },
     "execution_count": 3,
     "metadata": {},
     "output_type": "execute_result"
    },
    {
     "data": {
      "image/png": "[encoded data removed]",
      "text/plain": [
       "<Figure size 432x288 with 1 Axes>"
      ]
     },
     "metadata": {
      "needs_background": "light"
     },
     "output_type": "display_data"
    }
   ],
   "source": [
    "arr = np.array([[[ 255 , 0 , 0 ],[ 255 , 0 , 0 ],[ 255 , 0 , 0 ]],\n",
    "                [[ 255 , 0 , 0 ],[ 255 , 0 , 0 ],[ 255 , 0 , 0 ]],\n",
    "                [[ 255 , 0 , 0 ],[ 255 , 0 , 0 ],[ 255 , 0 , 0 ]]])\n",
    "plt.imshow(arr)"
   ]
  },
  {
   "cell_type": "markdown",
   "id": "caa832ea",
   "metadata": {},
   "source": [
    "## Creating Green Image"
   ]
  },
  {
   "cell_type": "code",
   "execution_count": 8,
   "id": "8f03485c",
   "metadata": {},
   "outputs": [
    {
     "data": {
      "text/plain": [
       "<matplotlib.image.AxesImage at 0x248bfe6fa30>"
      ]
     },
     "execution_count": 8,
     "metadata": {},
     "output_type": "execute_result"
    },
    {
     "data": {
      "image/png": "[encoded data removed]",
      "text/plain": [
       "<Figure size 432x288 with 1 Axes>"
      ]
     },
     "metadata": {
      "needs_background": "light"
     },
     "output_type": "display_data"
    }
   ],
   "source": [
    "arr = np.array([[[ 0 , 255 , 0 ],[ 0 , 255 , 0 ],[ 0 , 255 , 0 ]],\n",
    "                [[ 0 , 255 , 0 ],[ 0 , 255 , 0 ],[ 0 , 255 , 0 ]],\n",
    "                [[ 0 , 255 , 0 ],[ 0 , 255 , 0 ],[ 0 , 255 , 0 ]]])\n",
    "plt.imshow(arr)"
   ]
  },
  {
   "cell_type": "markdown",
   "id": "c5469bcb",
   "metadata": {},
   "source": [
    "## Creating Blue image"
   ]
  },
  {
   "cell_type": "code",
   "execution_count": 9,
   "id": "9aff6887",
   "metadata": {},
   "outputs": [
    {
     "data": {
      "text/plain": [
       "<matplotlib.image.AxesImage at 0x248bfe81f70>"
      ]
     },
     "execution_count": 9,
     "metadata": {},
     "output_type": "execute_result"
    },
    {
     "data": {
      "image/png": "[encoded data removed]",
      "text/plain": [
       "<Figure size 432x288 with 1 Axes>"
      ]
     },
     "metadata": {
      "needs_background": "light"
     },
     "output_type": "display_data"
    }
   ],
   "source": [
    "arr = np.array([[[ 0 , 0 , 255 ],[ 0 , 0 , 255 ],[ 0 , 0 , 255 ]],\n",
    "                [[ 0 , 0 , 255 ],[ 0 , 0 , 255 ],[ 0 , 0 , 255 ]],\n",
    "                [[ 0 , 0 , 255 ],[ 0 , 0 , 255 ],[ 0 , 0 , 255 ]]])\n",
    "plt.imshow(arr)"
   ]
  },
  {
   "cell_type": "markdown",
   "id": "44c4c761",
   "metadata": {},
   "source": [
    "## Creating Red, Green, Blue Pattern Images"
   ]
  },
  {
   "cell_type": "code",
   "execution_count": 10,
   "id": "1c5583f6",
   "metadata": {},
   "outputs": [
    {
     "data": {
      "text/plain": [
       "<matplotlib.image.AxesImage at 0x248bfe95d90>"
      ]
     },
     "execution_count": 10,
     "metadata": {},
     "output_type": "execute_result"
    },
    {
     "data": {
      "image/png": "[encoded data removed]",
      "text/plain": [
       "<Figure size 432x288 with 1 Axes>"
      ]
     },
     "metadata": {
      "needs_background": "light"
     },
     "output_type": "display_data"
    }
   ],
   "source": [
    "arr = np.array([[[ 255 , 0 , 0 ],[ 0 , 255 , 0 ],[ 0 , 0 , 255 ]],\n",
    "                [[ 255 , 0 , 0 ],[ 0 , 255 , 0 ],[ 0 , 0 , 255 ]],\n",
    "                [[ 255 , 0 , 0 ],[ 0 , 255 , 0 ],[ 0 , 0 , 255 ]]])\n",
    "plt.imshow(arr)"
   ]
  },
  {
   "cell_type": "code",
   "execution_count": null,
   "id": "2d45659f",
   "metadata": {},
   "outputs": [],
   "source": []
  }
 ],
 "metadata": {
  "kernelspec": {
   "display_name": "Python 3 (ipykernel)",
   "language": "python",
   "name": "python3"
  },
  "language_info": {
   "codemirror_mode": {
    "name": "ipython",
    "version": 3
   },
   "file_extension": ".py",
   "mimetype": "text/x-python",
   "name": "python",
   "nbconvert_exporter": "python",
   "pygments_lexer": "ipython3",
   "version": "3.9.7"
  }
 },
 "nbformat": 4,
 "nbformat_minor": 5
}
