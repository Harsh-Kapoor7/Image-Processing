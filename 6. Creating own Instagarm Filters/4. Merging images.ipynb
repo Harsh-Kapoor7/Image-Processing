{
 "cells": [
  {
   "cell_type": "code",
   "execution_count": 1,
   "id": "ba106098",
   "metadata": {},
   "outputs": [],
   "source": [
    "import cv2 as cv\n",
    "import numpy as np"
   ]
  },
  {
   "cell_type": "code",
   "execution_count": 8,
   "id": "e3b95846",
   "metadata": {},
   "outputs": [],
   "source": [
    "def merge(foreground_path, background_path, f, b):\n",
    "    \n",
    "    img        = cv.imread(foreground_path)\n",
    "    background = cv.imread(background_path)\n",
    "    background = cv.resize(background, (img.shape[1], img.shape[0]))\n",
    "    background = cv.flip(background, 0)\n",
    "    final = cv.addWeighted(img, f, background, b, 0)\n",
    "    \n",
    "    cv.imshow('Original', img)\n",
    "    cv.waitKey(0)\n",
    "    cv.imshow('Processed', final)\n",
    "    cv.waitKey(0)"
   ]
  },
  {
   "cell_type": "code",
   "execution_count": 10,
   "id": "926bffbd",
   "metadata": {},
   "outputs": [],
   "source": [
    "merge('img_2.png', 'b5.jpeg', .5, .5)"
   ]
  },
  {
   "cell_type": "code",
   "execution_count": null,
   "id": "2b207e20",
   "metadata": {},
   "outputs": [],
   "source": []
  }
 ],
 "metadata": {
  "kernelspec": {
   "display_name": "Python 3 (ipykernel)",
   "language": "python",
   "name": "python3"
  },
  "language_info": {
   "codemirror_mode": {
    "name": "ipython",
    "version": 3
   },
   "file_extension": ".py",
   "mimetype": "text/x-python",
   "name": "python",
   "nbconvert_exporter": "python",
   "pygments_lexer": "ipython3",
   "version": "3.9.7"
  }
 },
 "nbformat": 4,
 "nbformat_minor": 5
}
