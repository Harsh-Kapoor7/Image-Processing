{
 "cells": [
  {
   "cell_type": "code",
   "execution_count": 4,
   "id": "3cbcc64a",
   "metadata": {},
   "outputs": [],
   "source": [
    "import cv2 as cv\n",
    "import numpy as np"
   ]
  },
  {
   "cell_type": "code",
   "execution_count": 5,
   "id": "fb00a6ed",
   "metadata": {},
   "outputs": [],
   "source": [
    "def add_tone(img_path, color, alpha, beta):\n",
    "    blue = [111,176,207]\n",
    "    img = cv.imread(img_path)\n",
    "    img = img[ 400:1200 , : , : ]\n",
    "    background = []\n",
    "    rows = img.shape[0]\n",
    "    cols = img.shape[1]\n",
    "\n",
    "    for i in range(rows):\n",
    "        temp = []\n",
    "        for j in range(cols):\n",
    "            temp.append(color)\n",
    "        background.append(temp)\n",
    "    background = np.array(background).astype(np.uint8)\n",
    "\n",
    "    final = cv.addWeighted(img, alpha, background, beta, 0)\n",
    "    cv.imshow('Original', img)\n",
    "    cv.imshow('Processed', final)\n",
    "    cv.waitKey(0)"
   ]
  },
  {
   "cell_type": "code",
   "execution_count": null,
   "id": "89d3d3ee",
   "metadata": {},
   "outputs": [],
   "source": []
  }
 ],
 "metadata": {
  "kernelspec": {
   "display_name": "Python 3 (ipykernel)",
   "language": "python",
   "name": "python3"
  },
  "language_info": {
   "codemirror_mode": {
    "name": "ipython",
    "version": 3
   },
   "file_extension": ".py",
   "mimetype": "text/x-python",
   "name": "python",
   "nbconvert_exporter": "python",
   "pygments_lexer": "ipython3",
   "version": "3.9.7"
  }
 },
 "nbformat": 4,
 "nbformat_minor": 5
}
