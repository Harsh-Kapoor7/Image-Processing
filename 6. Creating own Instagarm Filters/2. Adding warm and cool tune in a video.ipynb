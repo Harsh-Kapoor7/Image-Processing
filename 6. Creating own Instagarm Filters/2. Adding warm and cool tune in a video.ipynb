{
 "cells": [
  {
   "cell_type": "code",
   "execution_count": 1,
   "id": "92512b1c",
   "metadata": {},
   "outputs": [],
   "source": [
    "import cv2 as cv\n",
    "import numpy as np"
   ]
  },
  {
   "cell_type": "markdown",
   "id": "962eabfe",
   "metadata": {},
   "source": [
    "## <font color = 'blue'><U><B>Creating feed with cool tone</font></B></U>"
   ]
  },
  {
   "cell_type": "code",
   "execution_count": 3,
   "id": "51d320f3",
   "metadata": {},
   "outputs": [],
   "source": [
    "blue = [247,206,139]\n",
    "\n",
    "# Creating blue background\n",
    "background = []\n",
    "for i in range(480):\n",
    "    temp = []\n",
    "    for j in range(640):\n",
    "        temp.append(blue)\n",
    "    background.append(temp)\n",
    "    \n",
    "background = np.array(background).astype(np.uint8)\n",
    "\n",
    "# Adding blue background\n",
    "cam = cv.VideoCapture(0)\n",
    "while(True):\n",
    "    \n",
    "    _, img = cam.read()\n",
    "    img = cv.flip(img, 1)\n",
    "    img = np.array(img).astype(np.uint8)\n",
    "    \n",
    "    merged = cv.addWeighted(img, .8, background, .4, 0)\n",
    "    \n",
    "    cv.imshow('Original', img)\n",
    "    cv.imshow('Merged', merged)\n",
    "    \n",
    "    if(cv.waitKey(10) == 27):\n",
    "        cam.release()\n",
    "        break"
   ]
  },
  {
   "cell_type": "code",
   "execution_count": null,
   "id": "4e229339",
   "metadata": {},
   "outputs": [],
   "source": [
    "cam.release()"
   ]
  },
  {
   "cell_type": "markdown",
   "id": "c9a16c16",
   "metadata": {},
   "source": [
    "## <font color = 'orange'> <U><B>Creating feed with warmer tone<font></B></U>"
   ]
  },
  {
   "cell_type": "code",
   "execution_count": null,
   "id": "c0814add",
   "metadata": {},
   "outputs": [],
   "source": [
    "yellow = [108,222,249]\n",
    "\n",
    "# Creating yellow background\n",
    "background = []\n",
    "for i in range(480):\n",
    "    temp = []\n",
    "    for j in range(640):\n",
    "        temp.append(yellow)\n",
    "    background.append(temp)\n",
    "background = np.array(background).astype(np.uint8)\n",
    "\n",
    "# Adding yellow background\n",
    "cam = cv.VideoCapture(0)\n",
    "while(True):\n",
    "    \n",
    "    _, img = cam.read()\n",
    "    img = cv.flip(img, 1)\n",
    "    img = np.array(img).astype(np.uint8)\n",
    "    \n",
    "    merged = cv.addWeighted(img, .8, background, .2, 0)\n",
    "    \n",
    "    cv.imshow('Original', img)\n",
    "    cv.imshow('Merged', merged)\n",
    "    \n",
    "    if(cv.waitKey(10) == 27):\n",
    "        cam.release()\n",
    "        break\n",
    "        \n",
    "        blue = [108,222,249]"
   ]
  },
  {
   "cell_type": "code",
   "execution_count": null,
   "id": "eb9600aa",
   "metadata": {},
   "outputs": [],
   "source": [
    "cam.release()"
   ]
  },
  {
   "cell_type": "markdown",
   "id": "1032ba9f",
   "metadata": {},
   "source": [
    "## <U>Merging both filters</U>"
   ]
  },
  {
   "cell_type": "code",
   "execution_count": 5,
   "id": "f95a66c8",
   "metadata": {},
   "outputs": [],
   "source": [
    "# Creating Blue background\n",
    "blue = [247,206,139]                                             \n",
    "\n",
    "blue_background = []\n",
    "for i in range(480):\n",
    "    temp = []\n",
    "    for j in range(640):\n",
    "        temp.append(blue)\n",
    "    blue_background.append(temp)\n",
    "blue_background = np.array(blue_background).astype(np.uint8)\n",
    "\n",
    "# Creating Yellow background\n",
    "yellow = [108,222,249]\n",
    "\n",
    "yellow_background = []\n",
    "for i in range(480):\n",
    "    temp = []\n",
    "    for j in range(640):\n",
    "        temp.append(yellow)\n",
    "    yellow_background.append(temp)\n",
    "yellow_background = np.array(yellow_background).astype(np.uint8)\n",
    "\n",
    "# Merging both filters\n",
    "cam = cv.VideoCapture(0)\n",
    "while(True):\n",
    "    _, img = cam.read()\n",
    "    img = cv.flip(img, 1)\n",
    "    img = np.array(img).astype(np.uint8)\n",
    "    \n",
    "    merged_blue   = cv.addWeighted(img, .8, blue_background, .2, 0)\n",
    "    merged_yellow = cv.addWeighted(img, .8, yellow_background, .2, 0)\n",
    "    \n",
    "    cv.imshow('Original', img)\n",
    "    cv.imshow('Merged_Blue', merged_blue)\n",
    "    cv.imshow('Merged_Yellow', merged_yellow)\n",
    "    \n",
    "    if(cv.waitKey(10) == 27):\n",
    "        cam.release()\n",
    "        break"
   ]
  },
  {
   "cell_type": "code",
   "execution_count": null,
   "id": "76aecbf4",
   "metadata": {},
   "outputs": [],
   "source": []
  }
 ],
 "metadata": {
  "kernelspec": {
   "display_name": "Python 3 (ipykernel)",
   "language": "python",
   "name": "python3"
  },
  "language_info": {
   "codemirror_mode": {
    "name": "ipython",
    "version": 3
   },
   "file_extension": ".py",
   "mimetype": "text/x-python",
   "name": "python",
   "nbconvert_exporter": "python",
   "pygments_lexer": "ipython3",
   "version": "3.9.7"
  }
 },
 "nbformat": 4,
 "nbformat_minor": 5
}
