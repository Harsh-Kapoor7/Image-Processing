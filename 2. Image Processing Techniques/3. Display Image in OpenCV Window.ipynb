{
 "cells": [
  {
   "cell_type": "code",
   "execution_count": 1,
   "id": "ece33358",
   "metadata": {},
   "outputs": [],
   "source": [
    "import cv2 as cv\n",
    "import numpy as np\n",
    "import matplotlib.pyplot as plt"
   ]
  },
  {
   "cell_type": "code",
   "execution_count": 2,
   "id": "8f07103c",
   "metadata": {},
   "outputs": [
    {
     "data": {
      "text/plain": [
       "-1"
      ]
     },
     "execution_count": 2,
     "metadata": {},
     "output_type": "execute_result"
    }
   ],
   "source": [
    "img = cv.imread('rgb.jpeg')\n",
    "img = cv.cvtColor(img, cv.COLOR_BGR2RGB)\n",
    "cv.imshow('Image', img)\n",
    "cv.waitKey(2000)\n",
    "\n",
    "img = cv.imread('Transition.png')\n",
    "img = cv.cvtColor(img, cv.COLOR_BGR2RGB)\n",
    "cv.imshow('Image', img)\n",
    "cv.waitKey(1000)"
   ]
  },
  {
   "cell_type": "code",
   "execution_count": 3,
   "id": "7a6f85da",
   "metadata": {},
   "outputs": [],
   "source": []
  },
  {
   "cell_type": "markdown",
   "id": "3cb109fc",
   "metadata": {},
   "source": [
    "## Displaying 3 frames on RGB separately"
   ]
  },
  {
   "cell_type": "code",
   "execution_count": 6,
   "id": "ebbe5b90",
   "metadata": {},
   "outputs": [
    {
     "data": {
      "text/plain": [
       "-1"
      ]
     },
     "execution_count": 6,
     "metadata": {},
     "output_type": "execute_result"
    }
   ],
   "source": [
    "img = cv.imread('rgb.jpeg')\n",
    "img = cv.cvtColor(img, cv.COLOR_BGR2RGB)\n",
    "\n",
    "r = img[ : , : , 0 ]\n",
    "g = img[ : , : , 1 ]\n",
    "b = img[ : , : , 2 ]\n",
    "\n",
    "cv.imshow('Red', r)\n",
    "cv.waitKey(1000)\n",
    "\n",
    "cv.imshow('Green', g)\n",
    "cv.waitKey(1000)\n",
    "\n",
    "cv.imshow('Blue', b)\n",
    "cv.waitKey(1000)"
   ]
  },
  {
   "cell_type": "markdown",
   "id": "c3871eb1",
   "metadata": {},
   "source": [
    "## Displaying 3 frames on RGB in a single window"
   ]
  },
  {
   "cell_type": "code",
   "execution_count": 2,
   "id": "c9349f3d",
   "metadata": {},
   "outputs": [
    {
     "data": {
      "text/plain": [
       "-1"
      ]
     },
     "execution_count": 2,
     "metadata": {},
     "output_type": "execute_result"
    }
   ],
   "source": [
    "img = cv.imread('rgb.jpeg')\n",
    "img = cv.cvtColor(img, cv.COLOR_BGR2RGB)\n",
    "\n",
    "r = img[ : , : , 0 ]\n",
    "g = img[ : , : , 1 ]\n",
    "b = img[ : , : , 2 ]\n",
    "\n",
    "cv.imshow('Frame', r)\n",
    "cv.waitKey(1000)\n",
    "\n",
    "cv.imshow('Frame', g)\n",
    "cv.waitKey(1000)\n",
    "\n",
    "cv.imshow('Frame', b)\n",
    "cv.waitKey(1000)"
   ]
  },
  {
   "cell_type": "code",
   "execution_count": null,
   "id": "48de5f3e",
   "metadata": {},
   "outputs": [],
   "source": []
  }
 ],
 "metadata": {
  "kernelspec": {
   "display_name": "Python 3 (ipykernel)",
   "language": "python",
   "name": "python3"
  },
  "language_info": {
   "codemirror_mode": {
    "name": "ipython",
    "version": 3
   },
   "file_extension": ".py",
   "mimetype": "text/x-python",
   "name": "python",
   "nbconvert_exporter": "python",
   "pygments_lexer": "ipython3",
   "version": "3.9.7"
  }
 },
 "nbformat": 4,
 "nbformat_minor": 5
}
