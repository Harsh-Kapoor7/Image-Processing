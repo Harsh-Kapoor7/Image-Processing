{
 "cells": [
  {
   "cell_type": "code",
   "execution_count": 1,
   "id": "137785f7",
   "metadata": {},
   "outputs": [],
   "source": [
    "import cv2 as cv"
   ]
  },
  {
   "cell_type": "code",
   "execution_count": null,
   "id": "36e69f28",
   "metadata": {},
   "outputs": [],
   "source": [
    "cam = cv.VideoCapture(0)\n",
    "\n",
    "while(True):\n",
    "    _, img = cam.read()\n",
    "    img = cv.flip(img, 1)\n",
    "    \n",
    "    blr = cv.blur(img, (3,3))\n",
    "    edge = cv.Canny(img, 100, 200)\n",
    "    fin = cv.Canny(blr, 100, 200)\n",
    "    \n",
    "    cv.imshow('Frames', img)\n",
    "    cv.imshow('Blur'  , blr)\n",
    "    cv.imshow('Edge'  , edge)\n",
    "    cv.imshow('Final'  , fin)\n",
    "    \n",
    "    if(cv.waitKey(10) == 27):\n",
    "        cam.release\n",
    "        break"
   ]
  },
  {
   "cell_type": "code",
   "execution_count": null,
   "id": "2d0ea6e0",
   "metadata": {},
   "outputs": [],
   "source": []
  }
 ],
 "metadata": {
  "kernelspec": {
   "display_name": "Python 3 (ipykernel)",
   "language": "python",
   "name": "python3"
  },
  "language_info": {
   "codemirror_mode": {
    "name": "ipython",
    "version": 3
   },
   "file_extension": ".py",
   "mimetype": "text/x-python",
   "name": "python",
   "nbconvert_exporter": "python",
   "pygments_lexer": "ipython3",
   "version": "3.9.7"
  }
 },
 "nbformat": 4,
 "nbformat_minor": 5
}
