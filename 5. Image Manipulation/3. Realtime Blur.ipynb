{
 "cells": [
  {
   "cell_type": "code",
   "execution_count": 2,
   "id": "488a5d56",
   "metadata": {},
   "outputs": [],
   "source": [
    "import cv2 as cv"
   ]
  },
  {
   "cell_type": "code",
   "execution_count": 3,
   "id": "8b5ef08f",
   "metadata": {},
   "outputs": [],
   "source": [
    "cam = cv.VideoCapture(0)\n",
    "\n",
    "while(True):\n",
    "    _, img = cam.read()\n",
    "    img = cv.flip(img, 1)\n",
    "    \n",
    "    blr_1 = cv.blur(img, (2,2))\n",
    "    blr_2 = cv.blur(img, (4,4))\n",
    "    blr_3 = cv.blur(img, (8,8))\n",
    "    blr_4 = cv.blur(img, (16,16))\n",
    "    blr_5 = cv.blur(img, (32,32))\n",
    "    \n",
    "    cv.imshow('Frames', img)\n",
    "    cv.imshow('Blur_1'  , blr_1)\n",
    "    cv.imshow('Blur_2'  , blr_2)\n",
    "    cv.imshow('Blur_3'  , blr_3)\n",
    "    cv.imshow('Blur_4'  , blr_4)\n",
    "    cv.imshow('Blur_5'  , blr_5)\n",
    "    \n",
    "    if(cv.waitKey(10) == 27):\n",
    "        cam.release\n",
    "        break"
   ]
  },
  {
   "cell_type": "code",
   "execution_count": null,
   "id": "dc73745a",
   "metadata": {},
   "outputs": [],
   "source": [
    "[[1,2,3,4],\n",
    " [1,2,3,4],\n",
    " [1,2,3,4],\n",
    " [1,2,3,4]]\n",
    "\n",
    "(2,2)\n",
    "[[1,2],\n",
    " [1,2]]"
   ]
  },
  {
   "cell_type": "code",
   "execution_count": null,
   "id": "cb3b326d",
   "metadata": {},
   "outputs": [],
   "source": []
  }
 ],
 "metadata": {
  "kernelspec": {
   "display_name": "Python 3 (ipykernel)",
   "language": "python",
   "name": "python3"
  },
  "language_info": {
   "codemirror_mode": {
    "name": "ipython",
    "version": 3
   },
   "file_extension": ".py",
   "mimetype": "text/x-python",
   "name": "python",
   "nbconvert_exporter": "python",
   "pygments_lexer": "ipython3",
   "version": "3.9.7"
  }
 },
 "nbformat": 4,
 "nbformat_minor": 5
}
