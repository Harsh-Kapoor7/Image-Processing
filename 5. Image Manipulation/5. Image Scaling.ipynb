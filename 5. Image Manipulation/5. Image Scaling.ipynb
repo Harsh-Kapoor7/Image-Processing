{
 "cells": [
  {
   "cell_type": "code",
   "execution_count": 1,
   "id": "8c2fba3e",
   "metadata": {},
   "outputs": [],
   "source": [
    "import cv2 as cv"
   ]
  },
  {
   "cell_type": "code",
   "execution_count": 2,
   "id": "a24bc3c3",
   "metadata": {},
   "outputs": [],
   "source": [
    "cam = cv.VideoCapture(0)\n",
    "\n",
    "while(True):\n",
    "    _, img = cam.read()\n",
    "    img = cv.flip(img, 1)\n",
    "    resized_1 = cv.resize(img, (int(img.shape[0]/2), int(img.shape[1]/2)))\n",
    "    resized_2 = cv.resize(img, (int(img.shape[0]*.75), int(img.shape[1]/4)))\n",
    "    resized_3 = cv.resize(img, (int(img.shape[0]/8), int(img.shape[1]/8)))\n",
    "    \n",
    "    cv.imshow('Original', img)\n",
    "    cv.imshow('Resize_1'  , resized_1)\n",
    "    cv.imshow('Resize_2'  , resized_2)\n",
    "    cv.imshow('Resize_3'  , resized_3)\n",
    "    \n",
    "    if(cv.waitKey(10) == 27):\n",
    "        cam.release\n",
    "        break"
   ]
  },
  {
   "cell_type": "code",
   "execution_count": 2,
   "id": "a6cef751",
   "metadata": {},
   "outputs": [],
   "source": [
    "cam = cv.VideoCapture(0)\n",
    "\n",
    "while(True):\n",
    "    _, img = cam.read()\n",
    "    img = cv.flip(img, 1)\n",
    "    resized_1 = cv.resize(img, (int(img.shape[0]/(3/4)), int(img.shape[1]/(3/4))))\n",
    "    resized_2 = cv.resize(resized_1, (int(resized_1.shape[0]*(3/4)), int(resized_1.shape[1]*(3/4))))\n",
    "    \n",
    "    cv.imshow('Original', img)\n",
    "    cv.imshow('Resize_1'  , resized_1)\n",
    "    cv.imshow('Resize_2'  , resized_2)\n",
    "    \n",
    "    if(cv.waitKey(10) == 27):\n",
    "        cam.release\n",
    "        break"
   ]
  },
  {
   "cell_type": "code",
   "execution_count": 3,
   "id": "b7ffb24c",
   "metadata": {},
   "outputs": [
    {
     "data": {
      "text/plain": [
       "0.75"
      ]
     },
     "execution_count": 3,
     "metadata": {},
     "output_type": "execute_result"
    }
   ],
   "source": [
    "img.shape[0]/img.shape[1]"
   ]
  },
  {
   "cell_type": "code",
   "execution_count": null,
   "id": "133726d5",
   "metadata": {},
   "outputs": [],
   "source": []
  }
 ],
 "metadata": {
  "kernelspec": {
   "display_name": "Python 3 (ipykernel)",
   "language": "python",
   "name": "python3"
  },
  "language_info": {
   "codemirror_mode": {
    "name": "ipython",
    "version": 3
   },
   "file_extension": ".py",
   "mimetype": "text/x-python",
   "name": "python",
   "nbconvert_exporter": "python",
   "pygments_lexer": "ipython3",
   "version": "3.9.7"
  }
 },
 "nbformat": 4,
 "nbformat_minor": 5
}
