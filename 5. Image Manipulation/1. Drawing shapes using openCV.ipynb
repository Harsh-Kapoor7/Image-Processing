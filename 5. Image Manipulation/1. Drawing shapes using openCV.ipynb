{
 "cells": [
  {
   "cell_type": "code",
   "execution_count": 3,
   "id": "2905d84d",
   "metadata": {},
   "outputs": [],
   "source": [
    "import cv2 as cv"
   ]
  },
  {
   "cell_type": "markdown",
   "id": "e7aed97e",
   "metadata": {},
   "source": [
    "## 1. Drawing Rectangle"
   ]
  },
  {
   "cell_type": "code",
   "execution_count": 2,
   "id": "8d3a360b",
   "metadata": {},
   "outputs": [],
   "source": [
    "cam = cv.VideoCapture(0)\n",
    "while(True):\n",
    "    \n",
    "    _, img = cam.read()\n",
    "    img = cv.flip(img, 1)\n",
    "    img = cv.rectangle(img, (110,75), (390,450), (150,0,0), 3)\n",
    "    \n",
    "    cv.imshow('Frame', img)\n",
    "    \n",
    "    key = cv.waitKey(10)\n",
    "    if(key == 27):\n",
    "        cam.release()\n",
    "        break"
   ]
  },
  {
   "cell_type": "markdown",
   "id": "f0556946",
   "metadata": {},
   "source": [
    "## 2. Drawing Circle"
   ]
  },
  {
   "cell_type": "code",
   "execution_count": 2,
   "id": "5387c280",
   "metadata": {},
   "outputs": [],
   "source": [
    "cam = cv.VideoCapture(0)\n",
    "while(True):\n",
    "    \n",
    "    _, img = cam.read()\n",
    "    img = cv.flip(img, 1)\n",
    "    img = cv.circle(img, (325,252), 350, (0,0,0), 200)\n",
    "    \n",
    "    cv.imshow('Frame', img)\n",
    "    \n",
    "    key = cv.waitKey(10)\n",
    "    if(key == 27):\n",
    "        cam.release()\n",
    "        break"
   ]
  },
  {
   "cell_type": "markdown",
   "id": "ba792d92",
   "metadata": {},
   "source": [
    "## 3. Writing Text"
   ]
  },
  {
   "cell_type": "code",
   "execution_count": 7,
   "id": "6e5f819d",
   "metadata": {},
   "outputs": [],
   "source": [
    "cam = cv.VideoCapture(0)\n",
    "while(True):\n",
    "    \n",
    "    _, img = cam.read()\n",
    "    img = cv.flip(img, 1)\n",
    "    img = cv.putText(img, 'Harsh Kapoor', (125,110), 4, cv.FONT_HERSHEY_DUPLEX, (167,67,93), 2)\n",
    "    \n",
    "    cv.imshow('Frame', img)\n",
    "    \n",
    "    key = cv.waitKey(10)\n",
    "    if(key == 27):\n",
    "        cam.release()\n",
    "        break"
   ]
  },
  {
   "cell_type": "code",
   "execution_count": null,
   "id": "610e4351",
   "metadata": {},
   "outputs": [],
   "source": []
  }
 ],
 "metadata": {
  "kernelspec": {
   "display_name": "Python 3 (ipykernel)",
   "language": "python",
   "name": "python3"
  },
  "language_info": {
   "codemirror_mode": {
    "name": "ipython",
    "version": 3
   },
   "file_extension": ".py",
   "mimetype": "text/x-python",
   "name": "python",
   "nbconvert_exporter": "python",
   "pygments_lexer": "ipython3",
   "version": "3.9.7"
  }
 },
 "nbformat": 4,
 "nbformat_minor": 5
}
