{
 "cells": [
  {
   "cell_type": "code",
   "execution_count": 1,
   "id": "d711a2a3",
   "metadata": {},
   "outputs": [],
   "source": [
    "import cv2 as cv"
   ]
  },
  {
   "cell_type": "markdown",
   "id": "31652610",
   "metadata": {},
   "source": [
    "# <font color = 'red'>1. <u>Draw Shapes</font></u>"
   ]
  },
  {
   "cell_type": "markdown",
   "id": "4e2c526f",
   "metadata": {},
   "source": [
    "## 1.1 Drawing Rectangle"
   ]
  },
  {
   "cell_type": "code",
   "execution_count": 8,
   "id": "0353711e",
   "metadata": {},
   "outputs": [],
   "source": [
    "cam = cv.VideoCapture(0)\n",
    "\n",
    "while True:\n",
    "    _, img = cam.read()\n",
    "    img = cv.flip(img, 1)\n",
    "    \n",
    "    img = cv.rectangle(img, (70,25), (400,350), (150,0,0), 2)\n",
    "    \n",
    "    cv.imshow('Frames', img)\n",
    "    \n",
    "    key = cv.waitKey(30)\n",
    "    \n",
    "    if key == 27:\n",
    "        cam.release\n",
    "        break"
   ]
  },
  {
   "cell_type": "markdown",
   "id": "dd97bb41",
   "metadata": {},
   "source": [
    "## 1.2 Drawing Circles"
   ]
  },
  {
   "cell_type": "code",
   "execution_count": 15,
   "id": "f6ed03ef",
   "metadata": {},
   "outputs": [],
   "source": [
    "cam = cv.VideoCapture(0)\n",
    "\n",
    "while True:\n",
    "    _, img = cam.read()\n",
    "    img = cv.flip(img, 1)\n",
    "    \n",
    "    img = cv.circle(img, (300,210), 400, (0,0,0), 400)\n",
    "    \n",
    "    cv.imshow('Frames', img)\n",
    "    \n",
    "    key = cv.waitKey(30)\n",
    "    \n",
    "    if key == 27:\n",
    "        cam.release\n",
    "        break"
   ]
  },
  {
   "cell_type": "markdown",
   "id": "1c3f6d56",
   "metadata": {},
   "source": [
    "## 1.3 Writing text"
   ]
  },
  {
   "cell_type": "code",
   "execution_count": 9,
   "id": "dfd3f1f4",
   "metadata": {},
   "outputs": [],
   "source": [
    "cam = cv.VideoCapture(0)\n",
    "\n",
    "while True:\n",
    "    _, img = cam.read()\n",
    "    img = cv.flip(img, 1)\n",
    "    \n",
    "    img = cv.putText(img, 'Harsh Kapoor', (400,50), cv.FONT_ITALIC, 1, (150,0,0), 2)\n",
    "    \n",
    "    cv.imshow('Frames', img)\n",
    "    \n",
    "    key = cv.waitKey(30)\n",
    "    \n",
    "    if key == 27:\n",
    "        cam.release\n",
    "        break"
   ]
  },
  {
   "cell_type": "markdown",
   "id": "90dbc2a5",
   "metadata": {},
   "source": [
    "## <font color = 'red'>2. <u>Edge Detection</font></u>"
   ]
  },
  {
   "cell_type": "code",
   "execution_count": 2,
   "id": "e6edf835",
   "metadata": {},
   "outputs": [],
   "source": [
    "cam = cv.VideoCapture(0)\n",
    "\n",
    "while True:\n",
    "    _, img = cam.read()\n",
    "    img = cv.flip(img, 1)\n",
    "    \n",
    "    edge_1 = cv.Canny(img, 0, 50)\n",
    "    edge_2 = cv.Canny(img, 50, 100)\n",
    "    edge_3 = cv.Canny(img, 100, 150)\n",
    "    edge_4 = cv.Canny(img, 150, 200)\n",
    "    edge_5 = cv.Canny(img, 200, 250)\n",
    "    \n",
    "    cv.imshow('Frames', img)\n",
    "    cv.imshow('Edges-1', edge_1)\n",
    "    cv.imshow('Edges-2', edge_2)\n",
    "    cv.imshow('Edges-3', edge_3)\n",
    "    cv.imshow('Edges-4', edge_4)\n",
    "    cv.imshow('Edges-5', edge_5)\n",
    "    \n",
    "    key = cv.waitKey(30)\n",
    "    \n",
    "    if key == 27:\n",
    "        cam.release\n",
    "        break"
   ]
  },
  {
   "cell_type": "markdown",
   "id": "2e79d434",
   "metadata": {},
   "source": [
    "## <font color = 'red'>3. <u>Blurring Image</font></u>"
   ]
  },
  {
   "cell_type": "code",
   "execution_count": 5,
   "id": "7b6acc04",
   "metadata": {},
   "outputs": [],
   "source": [
    "cam = cv.VideoCapture(0)\n",
    "\n",
    "while True:\n",
    "    _, img = cam.read()\n",
    "    img = cv.flip(img, 1)\n",
    "    \n",
    "    blr_1 = cv.blur(img, (4,4))\n",
    "    blr_2 = cv.blur(img, (8,8))\n",
    "    blr_3 = cv.blur(img, (16,16))\n",
    "    blr_4 = cv.blur(img, (32,32))\n",
    "    \n",
    "    cv.imshow('Frame', img)\n",
    "    cv.imshow('Blur-1', blr_1)\n",
    "    cv.imshow('Blur-2', blr_2)\n",
    "    cv.imshow('Blur-3', blr_3)\n",
    "    cv.imshow('Blur-4', blr_4)\n",
    "    \n",
    "    key = cv.waitKey(30)\n",
    "    \n",
    "    if key == 27:\n",
    "        cam.release\n",
    "        break"
   ]
  },
  {
   "cell_type": "markdown",
   "id": "17d41c46",
   "metadata": {},
   "source": [
    "## <font color = 'red'>4. <u>Blur</u> + <u>Edge Detection</u>"
   ]
  },
  {
   "cell_type": "code",
   "execution_count": 2,
   "id": "97ffcadd",
   "metadata": {},
   "outputs": [],
   "source": [
    "cam = cv.VideoCapture(0)\n",
    "\n",
    "while True:\n",
    "    _, img = cam.read()\n",
    "    img = cv.flip(img, 1)\n",
    "    \n",
    "    blur = cv.blur(img, (8,8))\n",
    "    edge = cv.Canny(img, 100, 150)\n",
    "    final = cv.Canny(blur, 100, 150)\n",
    "    \n",
    "    cv.imshow('Frmaes', img)\n",
    "    cv.imshow('Blurred', blur)\n",
    "    cv.imshow('Edged', edge)\n",
    "    cv.imshow('Blurred+Edged', final)\n",
    "    \n",
    "    key = cv.waitKey(30)\n",
    "    \n",
    "    if key == 27:\n",
    "        cam.release\n",
    "        break"
   ]
  },
  {
   "cell_type": "code",
   "execution_count": null,
   "id": "2456f348",
   "metadata": {},
   "outputs": [],
   "source": []
  }
 ],
 "metadata": {
  "kernelspec": {
   "display_name": "Python 3 (ipykernel)",
   "language": "python",
   "name": "python3"
  },
  "language_info": {
   "codemirror_mode": {
    "name": "ipython",
    "version": 3
   },
   "file_extension": ".py",
   "mimetype": "text/x-python",
   "name": "python",
   "nbconvert_exporter": "python",
   "pygments_lexer": "ipython3",
   "version": "3.9.7"
  }
 },
 "nbformat": 4,
 "nbformat_minor": 5
}
