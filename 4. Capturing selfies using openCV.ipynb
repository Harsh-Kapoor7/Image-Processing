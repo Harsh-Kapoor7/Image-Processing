{
 "cells": [
  {
   "cell_type": "code",
   "execution_count": 4,
   "id": "4df3a543",
   "metadata": {},
   "outputs": [],
   "source": [
    "import cv2 as cv"
   ]
  },
  {
   "cell_type": "markdown",
   "id": "0a17b42c",
   "metadata": {},
   "source": [
    "## Frame Extraction"
   ]
  },
  {
   "cell_type": "code",
   "execution_count": 5,
   "id": "f61113c8",
   "metadata": {},
   "outputs": [],
   "source": [
    "cam = cv.VideoCapture(0)\n",
    "c = 0\n",
    "\n",
    "while(True):\n",
    "    _, img = cam.read() \n",
    "    \n",
    "    img = cv.flip(img, 1)\n",
    "    gray = cv.cvtColor(img, cv.COLOR_RGB2GRAY)\n",
    "    \n",
    "    cv.imshow('Frame', img)\n",
    "    \n",
    "    key = cv.waitKey(10)\n",
    "    \n",
    "    if(key == 13):                                              #Click Selfie if Enter is pressed\n",
    "        cv.imwrite('Selfie/Selfie_' + str(c) + '.png', img)\n",
    "        c += 1\n",
    "        \n",
    "    if(key == 27):                                              #Terminate if escape is pressed\n",
    "        cam.release()\n",
    "        break"
   ]
  },
  {
   "cell_type": "code",
   "execution_count": 3,
   "id": "54aaea0e",
   "metadata": {},
   "outputs": [
    {
     "data": {
      "text/plain": [
       "-1"
      ]
     },
     "execution_count": 3,
     "metadata": {},
     "output_type": "execute_result"
    }
   ],
   "source": []
  },
  {
   "cell_type": "code",
   "execution_count": null,
   "id": "f1ded87e",
   "metadata": {},
   "outputs": [],
   "source": []
  }
 ],
 "metadata": {
  "kernelspec": {
   "display_name": "Python 3 (ipykernel)",
   "language": "python",
   "name": "python3"
  },
  "language_info": {
   "codemirror_mode": {
    "name": "ipython",
    "version": 3
   },
   "file_extension": ".py",
   "mimetype": "text/x-python",
   "name": "python",
   "nbconvert_exporter": "python",
   "pygments_lexer": "ipython3",
   "version": "3.9.7"
  }
 },
 "nbformat": 4,
 "nbformat_minor": 5
}
