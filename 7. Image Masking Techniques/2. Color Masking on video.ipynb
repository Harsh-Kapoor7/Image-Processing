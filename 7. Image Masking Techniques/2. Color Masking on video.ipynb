{
 "cells": [
  {
   "cell_type": "code",
   "execution_count": 1,
   "id": "1284eedb",
   "metadata": {},
   "outputs": [],
   "source": [
    "import cv2 as cv\n",
    "import numpy as np"
   ]
  },
  {
   "cell_type": "code",
   "execution_count": 17,
   "id": "a3be47e9",
   "metadata": {},
   "outputs": [],
   "source": [
    "cam = cv.VideoCapture(0)\n",
    "\n",
    "lower = np.array([160,160,160])\n",
    "upper = np.array([255,255,255]) \n",
    "\n",
    "while(True):\n",
    "    _, img = cam.read()\n",
    "    img = cv.flip(img, 1)\n",
    "    \n",
    "    mask = cv.blur(img, (4,4))\n",
    "    mask = cv.inRange(mask, lower, upper)\n",
    "    \n",
    "    cv.imshow('Original', img)\n",
    "    cv.imshow('Mask', mask)\n",
    "    \n",
    "    if(cv.waitKey(10) == 27):\n",
    "        cam.release()\n",
    "        break\n",
    "cam.release()"
   ]
  },
  {
   "cell_type": "code",
   "execution_count": null,
   "id": "078447f4",
   "metadata": {},
   "outputs": [],
   "source": []
  }
 ],
 "metadata": {
  "kernelspec": {
   "display_name": "Python 3 (ipykernel)",
   "language": "python",
   "name": "python3"
  },
  "language_info": {
   "codemirror_mode": {
    "name": "ipython",
    "version": 3
   },
   "file_extension": ".py",
   "mimetype": "text/x-python",
   "name": "python",
   "nbconvert_exporter": "python",
   "pygments_lexer": "ipython3",
   "version": "3.9.7"
  }
 },
 "nbformat": 4,
 "nbformat_minor": 5
}
