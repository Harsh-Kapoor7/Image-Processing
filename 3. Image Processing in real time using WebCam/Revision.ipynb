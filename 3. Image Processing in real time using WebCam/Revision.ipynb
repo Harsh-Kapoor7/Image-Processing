{
 "cells": [
  {
   "cell_type": "code",
   "execution_count": 3,
   "id": "767a0e1a",
   "metadata": {},
   "outputs": [],
   "source": [
    "import cv2 as cv"
   ]
  },
  {
   "cell_type": "markdown",
   "id": "629bbe02",
   "metadata": {},
   "source": [
    "## Working with WebCams"
   ]
  },
  {
   "cell_type": "code",
   "execution_count": 2,
   "id": "0873dc40",
   "metadata": {},
   "outputs": [],
   "source": [
    "cam = cv.VideoCapture(0)\n",
    "\n",
    "while True:\n",
    "    _, img = cam.read()\n",
    "    \n",
    "    cv.imshow('Frames', img)\n",
    "    \n",
    "    key = cv.waitKey(30)\n",
    "    \n",
    "    if key == 27:\n",
    "        cam.release()\n",
    "        break"
   ]
  },
  {
   "cell_type": "markdown",
   "id": "fdf7ca6d",
   "metadata": {},
   "source": [
    "## Cropping the frame "
   ]
  },
  {
   "cell_type": "code",
   "execution_count": 4,
   "id": "c5aa01f4",
   "metadata": {},
   "outputs": [],
   "source": [
    "cam = cv.VideoCapture(0)\n",
    "\n",
    "while True:\n",
    "    _, img = cam.read()\n",
    "    img = cv.flip(img, 1)\n",
    "    \n",
    "    frame = img[ 100:400 , : , : ] \n",
    "    \n",
    "    cv.imshow('Frame', img)\n",
    "    cv.imshow('Cropped-Frame', frame)\n",
    "    \n",
    "    key = cv.waitKey(30)\n",
    "    \n",
    "    if key == 27:\n",
    "        cam.release()\n",
    "        break"
   ]
  },
  {
   "cell_type": "markdown",
   "id": "b743ae2c",
   "metadata": {},
   "source": [
    "## Frame Extraction"
   ]
  },
  {
   "cell_type": "code",
   "execution_count": 2,
   "id": "3d8a2702",
   "metadata": {},
   "outputs": [],
   "source": [
    "cam = cv.VideoCapture(0)\n",
    "\n",
    "while True:\n",
    "    _, img = cam.read()\n",
    "    img = cv.flip(img, 1)\n",
    "    hsv = cv.cvtColor(img, cv.COLOR_RGB2HSV)\n",
    "    \n",
    "    r = img[:,:,0]\n",
    "    g = img[:,:,1]\n",
    "    b = img[:,:,2]\n",
    "    \n",
    "    h = hsv[:,:,0]\n",
    "    s = hsv[:,:,1]\n",
    "    v = hsv[:,:,2]\n",
    "    \n",
    "    cv.imshow('Frames', img)\n",
    "    cv.imshow('Red', r)\n",
    "    cv.imshow('Green', g)\n",
    "    cv.imshow('Blue', b)\n",
    "    \n",
    "    cv.imshow('Hsv', hsv)\n",
    "    cv.imshow('Hue', h)\n",
    "    cv.imshow('Saturation', s)\n",
    "    cv.imshow('Value', v)\n",
    "    \n",
    "    key = cv.waitKey(30)\n",
    "    \n",
    "    if key == 27:\n",
    "        cam.release()\n",
    "        break"
   ]
  },
  {
   "cell_type": "code",
   "execution_count": 13,
   "id": "7c785b12",
   "metadata": {},
   "outputs": [
    {
     "data": {
      "text/plain": [
       "array([[[161, 158, 160],\n",
       "        [160, 158, 160],\n",
       "        [158, 157, 158],\n",
       "        ...,\n",
       "        [117, 108, 116],\n",
       "        [113, 108, 113],\n",
       "        [109, 109, 111]],\n",
       "\n",
       "       [[165, 157, 160],\n",
       "        [164, 156, 159],\n",
       "        [162, 156, 158],\n",
       "        ...,\n",
       "        [117, 109, 112],\n",
       "        [113, 109, 110],\n",
       "        [109, 109, 109]],\n",
       "\n",
       "       [[159, 157, 157],\n",
       "        [159, 157, 157],\n",
       "        [158, 157, 157],\n",
       "        ...,\n",
       "        [116, 109, 109],\n",
       "        [114, 110, 111],\n",
       "        [111, 111, 111]],\n",
       "\n",
       "       ...,\n",
       "\n",
       "       [[ 68,  68,  68],\n",
       "        [ 68,  68,  68],\n",
       "        [ 68,  68,  68],\n",
       "        ...,\n",
       "        [120, 123, 109],\n",
       "        [113, 119, 109],\n",
       "        [107, 115, 109]],\n",
       "\n",
       "       [[ 66,  66,  68],\n",
       "        [ 66,  66,  68],\n",
       "        [ 66,  66,  67],\n",
       "        ...,\n",
       "        [116, 120, 106],\n",
       "        [108, 113, 104],\n",
       "        [106, 112, 107]],\n",
       "\n",
       "       [[ 71,  66,  66],\n",
       "        [ 71,  66,  66],\n",
       "        [ 71,  66,  66],\n",
       "        ...,\n",
       "        [120, 118,  98],\n",
       "        [111, 115, 102],\n",
       "        [104, 112, 107]]], dtype=uint8)"
      ]
     },
     "execution_count": 13,
     "metadata": {},
     "output_type": "execute_result"
    }
   ],
   "source": [
    "img"
   ]
  },
  {
   "cell_type": "code",
   "execution_count": null,
   "id": "576968ed",
   "metadata": {},
   "outputs": [],
   "source": []
  },
  {
   "cell_type": "code",
   "execution_count": 6,
   "id": "9a41a692",
   "metadata": {},
   "outputs": [],
   "source": []
  },
  {
   "cell_type": "code",
   "execution_count": 15,
   "id": "40f92993",
   "metadata": {},
   "outputs": [
    {
     "data": {
      "text/plain": [
       "(480, 640, 3)"
      ]
     },
     "execution_count": 15,
     "metadata": {},
     "output_type": "execute_result"
    }
   ],
   "source": [
    "img.shape           # 1st one is height & 2nd one is width"
   ]
  },
  {
   "cell_type": "code",
   "execution_count": null,
   "id": "3eba2606",
   "metadata": {},
   "outputs": [],
   "source": []
  }
 ],
 "metadata": {
  "kernelspec": {
   "display_name": "Python 3 (ipykernel)",
   "language": "python",
   "name": "python3"
  },
  "language_info": {
   "codemirror_mode": {
    "name": "ipython",
    "version": 3
   },
   "file_extension": ".py",
   "mimetype": "text/x-python",
   "name": "python",
   "nbconvert_exporter": "python",
   "pygments_lexer": "ipython3",
   "version": "3.9.7"
  }
 },
 "nbformat": 4,
 "nbformat_minor": 5
}
